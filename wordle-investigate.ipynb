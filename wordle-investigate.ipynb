{
 "cells": [
  {
   "cell_type": "markdown",
   "metadata": {},
   "source": [
    "# Investigating Wordle Problem\n",
    "\n",
    "## Aim\n",
    "\n",
    "The aim of this notebook is to explore the word lists to maybe help later develop the algorithm. The focus as already stated is the NY data file, but assuming that the statistical discribuition of chars in both the lists are pretty similar, the results I get from the NY word list, it should be able to be used on the original without much issues."
   ]
  }
 ],
 "metadata": {
  "language_info": {
   "name": "python"
  }
 },
 "nbformat": 4,
 "nbformat_minor": 2
}
